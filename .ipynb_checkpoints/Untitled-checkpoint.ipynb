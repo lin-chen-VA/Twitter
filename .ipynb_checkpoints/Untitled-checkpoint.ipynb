{
 "cells": [
  {
   "cell_type": "markdown",
   "metadata": {},
   "source": [
    "# <center>Twitter Search</center>\n",
    "\n",
    "## Description\n",
    "\n",
    "    A Python script to download tweets from twitter.com.\n",
    "    \n",
    "    Early November 2019, Dr. Lu in Department of Geosciences would like to make a study on Hurricane Maria based on tweets at Twitter. Initially, we tried python-twitter and TwitterAPI to download data. However, we realized that both them do not support premium download from Twitter well. The standard supported by them only allow us to download the data last seven days. Thus, we created this script for our purpose.\n",
    "    \n",
    "## Implementation\n",
    "\n",
    "1. Download new\n",
    "    \n",
    "    If there is a next.txt and temp.csv exist, remove them.\n",
    "> python psearch.py\n",
    "\n",
    "2. Continue download\n",
    "    \n",
    "    Download using the token generated from previous request\n",
    "> python psearch.py\n",
    "\n",
    "## Requirements\n",
    "\n",
    "1. Python 3 installed\n"
   ]
  }
 ],
 "metadata": {
  "kernelspec": {
   "display_name": "Python 2",
   "language": "python",
   "name": "python2"
  },
  "language_info": {
   "codemirror_mode": {
    "name": "ipython",
    "version": 2
   },
   "file_extension": ".py",
   "mimetype": "text/x-python",
   "name": "python",
   "nbconvert_exporter": "python",
   "pygments_lexer": "ipython2",
   "version": "2.7.15"
  }
 },
 "nbformat": 4,
 "nbformat_minor": 2
}
